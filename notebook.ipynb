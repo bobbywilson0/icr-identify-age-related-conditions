{
 "cells": [
  {
   "cell_type": "code",
   "execution_count": 150,
   "metadata": {},
   "outputs": [],
   "source": [
    "import pandas as pd\n",
    "import numpy as np\n",
    "import seaborn as sns\n",
    "import matplotlib.pyplot as plt\n",
    "from sklearn.pipeline import Pipeline\n",
    "from sklearn.impute import SimpleImputer\n",
    "from sklearn.model_selection import KFold\n",
    "from sklearn.feature_selection import SelectPercentile, chi2\n",
    "from sklearn.preprocessing import OneHotEncoder, StandardScaler\n",
    "from sklearn.ensemble import RandomForestClassifier\n",
    "from sklearn.linear_model import LogisticRegression\n",
    "from sklearn.compose import ColumnTransformer\n",
    "from sklearn.model_selection import cross_val_score\n",
    "from numpy import mean\n",
    "from numpy import std\n",
    "from numpy import absolute\n",
    "from sklearn.svm import SVC"
   ]
  },
  {
   "cell_type": "code",
   "execution_count": 151,
   "metadata": {},
   "outputs": [],
   "source": [
    "df = pd.read_csv('train.csv')"
   ]
  },
  {
   "cell_type": "code",
   "execution_count": 152,
   "metadata": {},
   "outputs": [],
   "source": [
    "y = df['Class']\n",
    "X = df.drop(['Class', 'Id'], axis=1)\n",
    "# categorical_features = ['EJ']\n",
    "# numerical_features = ['AB','AF','AH','AM','AR','AX','AY','AZ','BC','BD','BN','BP','BQ',\n",
    "#                       'BR','BZ','CB','CC','CD','CF','CH','CL','CR','CS','CU','CW','DA',\n",
    "#                       'DE','DF','DH','DI','DL','DN','DU','DV','DY','EB','EE','EG','EH',\n",
    "#                       'EJ','EL','EP','EU','FC','FD','FE','FI','FL','FR','FS','GB','GE',\n",
    "#                       'GF','GH','GI','GL']\n",
    "numerical_ix = X.select_dtypes(include=['int64', 'float64']).columns\n",
    "categorical_ix = X.select_dtypes(include=['object', 'bool']).columns"
   ]
  },
  {
   "cell_type": "code",
   "execution_count": 153,
   "metadata": {},
   "outputs": [],
   "source": [
    "RANDOM_STATE=42"
   ]
  },
  {
   "cell_type": "code",
   "execution_count": 154,
   "metadata": {},
   "outputs": [],
   "source": [
    "# for c in categorical_features:\n",
    "#     if df[c].isnull().any():\n",
    "#         print(c)"
   ]
  },
  {
   "cell_type": "code",
   "execution_count": 155,
   "metadata": {},
   "outputs": [],
   "source": [
    "cat_pipe = Pipeline(\n",
    "    steps=[\n",
    "        (\"encoder\", OneHotEncoder(handle_unknown=\"ignore\")),\n",
    "        # (\"selector\", SelectPercentile(chi2, percentile=50)),\n",
    "    ]\n",
    ")"
   ]
  },
  {
   "cell_type": "code",
   "execution_count": 156,
   "metadata": {},
   "outputs": [],
   "source": [
    "num_pipe = Pipeline([\n",
    "    ('num_imputer', SimpleImputer(strategy='constant', fill_value=0)),\n",
    "    ('standard_scale', StandardScaler())\n",
    "])"
   ]
  },
  {
   "cell_type": "code",
   "execution_count": 157,
   "metadata": {},
   "outputs": [],
   "source": [
    "preprocessor = ColumnTransformer(\n",
    "    transformers=[\n",
    "        (\"num\", num_pipe, numerical_ix),\n",
    "        (\"cat\", cat_pipe, categorical_ix),\n",
    "    ]\n",
    ")"
   ]
  },
  {
   "cell_type": "code",
   "execution_count": 158,
   "metadata": {},
   "outputs": [],
   "source": [
    "# imputed_res = num_pipe.fit_transform(numerical_features)\n",
    "\n",
    "# scores = cross_val_score(pipeline, X, y, scoring='neg_mean_absolute_error', cv=cv, n_jobs=-1)"
   ]
  },
  {
   "cell_type": "code",
   "execution_count": 159,
   "metadata": {},
   "outputs": [],
   "source": [
    "model = RandomForestClassifier(n_estimators=1000, random_state=RANDOM_STATE, n_jobs=-1)\n",
    "# model = LogisticRegression(class_weight=\"balanced\", n_jobs=-1)\n",
    "# model = SVC(class_weight='balanced', random_state=RANDOM_STATE)"
   ]
  },
  {
   "cell_type": "code",
   "execution_count": 160,
   "metadata": {},
   "outputs": [],
   "source": [
    "estimator = Pipeline([\n",
    "    (\"preprocessor\", preprocessor),\n",
    "    ('model', model)\n",
    "])"
   ]
  },
  {
   "cell_type": "code",
   "execution_count": 161,
   "metadata": {},
   "outputs": [
    {
     "name": "stdout",
     "output_type": "stream",
     "text": [
      "MAE: 0.076 (0.038)\n"
     ]
    }
   ],
   "source": [
    "cv = KFold(n_splits=10, shuffle=True, random_state=RANDOM_STATE)\n",
    "# evaluate the pipeline using cross validation and calculate MAE\n",
    "scores = cross_val_score(estimator, X, y, scoring='neg_mean_absolute_error', cv=cv, n_jobs=-1)\n",
    "# convert MAE scores to positive values\n",
    "scores = absolute(scores)\n",
    "# summarize the model performance\n",
    "print('MAE: %.3f (%.3f)' % (mean(scores), std(scores)))"
   ]
  },
  {
   "cell_type": "code",
   "execution_count": null,
   "metadata": {},
   "outputs": [],
   "source": [
    "# RandomForestClassifier(n_estimators=1000, random_state=RANDOM_STATE, n_jobs=-1)\n",
    "# MAE: 0.076 (0.037)\n",
    "\n",
    "# model = RandomForestClassifier(n_estimators=1000, class_weight=\"balanced\", random_state=RANDOM_STATE, n_jobs=-1)\n",
    "# MAE: 0.096 (0.035)\n",
    "\n",
    "# model = SVC()\n",
    "# MAE: 0.117 (0.028)\n",
    "\n",
    "# model = SVC(class_weight='balanced')\n",
    "# MAE: 0.109 (0.040)\n"
   ]
  },
  {
   "cell_type": "code",
   "execution_count": 128,
   "metadata": {},
   "outputs": [
    {
     "data": {
      "text/plain": [
       "array([0.20967742, 0.27419355, 0.22580645, 0.20967742, 0.17741935,\n",
       "       0.16129032, 0.29032258, 0.14754098, 0.2295082 , 0.3442623 ])"
      ]
     },
     "execution_count": 128,
     "metadata": {},
     "output_type": "execute_result"
    }
   ],
   "source": [
    "scores"
   ]
  },
  {
   "cell_type": "code",
   "execution_count": 124,
   "metadata": {},
   "outputs": [
    {
     "data": {
      "text/plain": [
       "dict_keys(['memory', 'steps', 'verbose', 'preprocessor', 'model', 'preprocessor__n_jobs', 'preprocessor__remainder', 'preprocessor__sparse_threshold', 'preprocessor__transformer_weights', 'preprocessor__transformers', 'preprocessor__verbose', 'preprocessor__verbose_feature_names_out', 'preprocessor__num', 'preprocessor__cat', 'preprocessor__num__memory', 'preprocessor__num__steps', 'preprocessor__num__verbose', 'preprocessor__num__num_imputer', 'preprocessor__num__standard_scale', 'preprocessor__num__num_imputer__add_indicator', 'preprocessor__num__num_imputer__copy', 'preprocessor__num__num_imputer__fill_value', 'preprocessor__num__num_imputer__keep_empty_features', 'preprocessor__num__num_imputer__missing_values', 'preprocessor__num__num_imputer__strategy', 'preprocessor__num__num_imputer__verbose', 'preprocessor__num__standard_scale__copy', 'preprocessor__num__standard_scale__with_mean', 'preprocessor__num__standard_scale__with_std', 'preprocessor__cat__memory', 'preprocessor__cat__steps', 'preprocessor__cat__verbose', 'preprocessor__cat__encoder', 'preprocessor__cat__encoder__categories', 'preprocessor__cat__encoder__drop', 'preprocessor__cat__encoder__dtype', 'preprocessor__cat__encoder__handle_unknown', 'preprocessor__cat__encoder__max_categories', 'preprocessor__cat__encoder__min_frequency', 'preprocessor__cat__encoder__sparse', 'preprocessor__cat__encoder__sparse_output', 'model__C', 'model__break_ties', 'model__cache_size', 'model__class_weight', 'model__coef0', 'model__decision_function_shape', 'model__degree', 'model__gamma', 'model__kernel', 'model__max_iter', 'model__probability', 'model__random_state', 'model__shrinking', 'model__tol', 'model__verbose'])"
      ]
     },
     "execution_count": 124,
     "metadata": {},
     "output_type": "execute_result"
    }
   ],
   "source": [
    "estimator.get_params().keys()\n"
   ]
  },
  {
   "cell_type": "code",
   "execution_count": 17,
   "metadata": {},
   "outputs": [],
   "source": [
    "# from sklearn.model_selection import GridSearchCV\n",
    "\n",
    "# param_grid = {\n",
    "#   'model__n_estimators':[800,900,1000,1100],\n",
    "#   'model__min_samples_split': [2,3,4]\n",
    "#   }\n",
    "\n",
    "# grid = GridSearchCV(estimator, param_grid, n_jobs=-1, cv=5)\n",
    "# grid.fit(X, y)"
   ]
  },
  {
   "cell_type": "code",
   "execution_count": 18,
   "metadata": {},
   "outputs": [],
   "source": [
    "# grid.best_params_"
   ]
  },
  {
   "cell_type": "code",
   "execution_count": 19,
   "metadata": {},
   "outputs": [],
   "source": [
    "# import Grid Search class\n",
    "# from sklearn.model_selection import GridSearchCV\n",
    "# # make lists of different parameters to check\n",
    "# parameters = {\n",
    "#   'n_estimators':[1,10,100,1000],\n",
    "#   'min_samples_split': [2,3,4,5]\n",
    "#   }\n",
    "# #initialize\n",
    "# grid_pipeline = GridSearchCV(estimator, parameters)\n",
    "# # fit\n",
    "# grid_pipeline.fit(X,y)\n",
    "# grid_pipeline.best_params_"
   ]
  },
  {
   "cell_type": "code",
   "execution_count": 20,
   "metadata": {},
   "outputs": [],
   "source": [
    "from sklearn.model_selection import cross_validate\n",
    "def cross_validation(model, _X, _y, _cv=5):\n",
    "      '''Function to perform 5 Folds Cross-Validation\n",
    "       Parameters\n",
    "       ----------\n",
    "      model: Python Class, default=None\n",
    "              This is the machine learning algorithm to be used for training.\n",
    "      _X: array\n",
    "           This is the matrix of features.\n",
    "      _y: array\n",
    "           This is the target variable.\n",
    "      _cv: int, default=5\n",
    "          Determines the number of folds for cross-validation.\n",
    "       Returns\n",
    "       -------\n",
    "       The function returns a dictionary containing the metrics 'accuracy', 'precision',\n",
    "       'recall', 'f1' for both training set and validation set.\n",
    "      '''\n",
    "      _scoring = ['accuracy', 'precision', 'recall', 'f1']\n",
    "      results = cross_validate(estimator=model,\n",
    "                               X=_X,\n",
    "                               y=_y,\n",
    "                               cv=_cv,\n",
    "                               scoring=_scoring,\n",
    "                               return_train_score=True)\n",
    "      return [\n",
    "          results['test_accuracy'].mean(), results['test_precision'].mean(), results['test_recall'].mean(), results['test_f1'].mean()\n",
    "      ] \n",
    "\n",
    "     #  return {\"Training Accuracy scores\": results['train_accuracy'],\n",
    "     #          \"Mean Training Accuracy\": results['train_accuracy'].mean()*100,\n",
    "     #          \"Training Precision scores\": results['train_precision'],\n",
    "     #          \"Mean Training Precision\": results['train_precision'].mean(),\n",
    "     #          \"Training Recall scores\": results['train_recall'],\n",
    "     #          \"Mean Training Recall\": results['train_recall'].mean(),\n",
    "     #          \"Training F1 scores\": results['train_f1'],\n",
    "     #          \"Mean Training F1 Score\": results['train_f1'].mean(),\n",
    "     #          \"Validation Accuracy scores\": results['test_accuracy'],\n",
    "     #          \"Mean Validation Accuracy\": results['test_accuracy'].mean()*100,\n",
    "     #          \"Validation Precision scores\": results['test_precision'],\n",
    "     #          \"Mean Validation Precision\": results['test_precision'].mean(),\n",
    "     #          \"Validation Recall scores\": results['test_recall'],\n",
    "     #          \"Mean Validation Recall\": results['test_recall'].mean(),\n",
    "     #          \"Validation F1 scores\": results['test_f1'],\n",
    "     #          \"Mean Validation F1 Score\": results['test_f1'].mean()\n",
    "     #          }"
   ]
  },
  {
   "cell_type": "code",
   "execution_count": 21,
   "metadata": {},
   "outputs": [
    {
     "ename": "NameError",
     "evalue": "name 'X' is not defined",
     "output_type": "error",
     "traceback": [
      "\u001b[0;31m---------------------------------------------------------------------------\u001b[0m",
      "\u001b[0;31mNameError\u001b[0m                                 Traceback (most recent call last)",
      "Cell \u001b[0;32mIn[21], line 1\u001b[0m\n\u001b[0;32m----> 1\u001b[0m cross_validation(estimator, X, y)\n",
      "\u001b[0;31mNameError\u001b[0m: name 'X' is not defined"
     ]
    }
   ],
   "source": [
    "# cross_validation(estimator, X, y)\n",
    "# estimator.score()"
   ]
  },
  {
   "cell_type": "code",
   "execution_count": 175,
   "metadata": {},
   "outputs": [],
   "source": [
    "# balanced random forest\n",
    "# {'Training Accuracy scores': array([1., 1., 1., 1., 1.]),\n",
    "#  'Mean Training Accuracy': 100.0,\n",
    "#  'Training Precision scores': array([1., 1., 1., 1., 1.]),\n",
    "#  'Mean Training Precision': 1.0,\n",
    "#  'Training Recall scores': array([1., 1., 1., 1., 1.]),\n",
    "#  'Mean Training Recall': 1.0,\n",
    "#  'Training F1 scores': array([1., 1., 1., 1., 1.]),\n",
    "#  'Mean Training F1 Score': 1.0,\n",
    "#  'Validation Accuracy scores': array([0.90322581, 0.87903226, 0.89430894, 0.86178862, 0.93495935]),\n",
    "#  'Mean Validation Accuracy': 89.46629950170471,\n",
    "#  'Validation Precision scores': array([0.91666667, 0.76923077, 0.90909091, 0.7       , 0.93333333]),\n",
    "#  'Mean Validation Precision': 0.8456643356643356,\n",
    "#  'Validation Recall scores': array([0.5       , 0.45454545, 0.45454545, 0.33333333, 0.66666667]),\n",
    "#  'Mean Validation Recall': 0.4818181818181818,\n",
    "#  'Validation F1 scores': array([0.64705882, 0.57142857, 0.60606061, 0.4516129 , 0.77777778]),\n",
    "#  'Mean Validation F1 Score': 0.6107877364044347}"
   ]
  },
  {
   "cell_type": "code",
   "execution_count": 176,
   "metadata": {},
   "outputs": [],
   "source": [
    "# random forest\n",
    "# {'Training Accuracy scores': array([1., 1., 1., 1., 1.]),\n",
    "#  'Mean Training Accuracy': 100.0,\n",
    "#  'Training Precision scores': array([1., 1., 1., 1., 1.]),\n",
    "#  'Mean Training Precision': 1.0,\n",
    "#  'Training Recall scores': array([1., 1., 1., 1., 1.]),\n",
    "#  'Mean Training Recall': 1.0,\n",
    "#  'Training F1 scores': array([1., 1., 1., 1., 1.]),\n",
    "#  'Mean Training F1 Score': 1.0,\n",
    "#  'Validation Accuracy scores': array([0.90322581, 0.89516129, 0.91869919, 0.89430894, 0.95121951]),\n",
    "#  'Mean Validation Accuracy': 91.25229478101232,\n",
    "#  'Validation Precision scores': array([1.        , 0.69565217, 0.83333333, 0.78571429, 0.89473684]),\n",
    "#  'Mean Validation Precision': 0.841887327013185,\n",
    "#  'Validation Recall scores': array([0.45454545, 0.72727273, 0.68181818, 0.52380952, 0.80952381]),\n",
    "#  'Mean Validation Recall': 0.6393939393939394,\n",
    "#  'Validation F1 scores': array([0.625     , 0.71111111, 0.75      , 0.62857143, 0.85      ]),\n",
    "#  'Mean Validation F1 Score': 0.7129365079365079}"
   ]
  },
  {
   "cell_type": "code",
   "execution_count": 177,
   "metadata": {},
   "outputs": [],
   "source": [
    "# logistic regression\n",
    "# {'Training Accuracy scores': array([0.94726166, 0.94117647, 0.93927126, 0.95951417, 0.93927126]),\n",
    "#  'Mean Training Accuracy': 94.52989628072366,\n",
    "#  'Training Precision scores': array([0.89473684, 0.87012987, 0.88888889, 0.93506494, 0.89041096]),\n",
    "#  'Mean Training Precision': 0.8958462990186133,\n",
    "#  'Training Recall scores': array([0.79069767, 0.77906977, 0.74418605, 0.82758621, 0.74712644]),\n",
    "#  'Mean Training Recall': 0.7777332264100508,\n",
    "#  'Training F1 scores': array([0.83950617, 0.82208589, 0.81012658, 0.87804878, 0.8125    ]),\n",
    "#  'Mean Training F1 Score': 0.8324534850352687,\n",
    "#  'Validation Accuracy scores': array([0.85483871, 0.91129032, 0.88617886, 0.85365854, 0.89430894]),\n",
    "#  'Mean Validation Accuracy': 88.00550747442959,\n",
    "#  'Validation Precision scores': array([0.625     , 0.82352941, 0.72222222, 0.58823529, 0.7       ]),\n",
    "#  'Mean Validation Precision': 0.691797385620915,\n",
    "#  'Validation Recall scores': array([0.45454545, 0.63636364, 0.59090909, 0.47619048, 0.66666667]),\n",
    "#  'Mean Validation Recall': 0.5649350649350648,\n",
    "#  'Validation F1 scores': array([0.52631579, 0.71794872, 0.65      , 0.52631579, 0.68292683]),\n",
    "#  'Mean Validation F1 Score': 0.6207014252328757}"
   ]
  },
  {
   "cell_type": "code",
   "execution_count": null,
   "metadata": {},
   "outputs": [],
   "source": [
    "# balanced logistic regression\n",
    "# {'Training Accuracy scores': array([0.9168357 , 0.92697769, 0.93319838, 0.93927126, 0.92510121]),\n",
    "#  'Mean Training Accuracy': 92.82768475252729,\n",
    "#  'Training Precision scores': array([0.69230769, 0.72321429, 0.73873874, 0.76146789, 0.71186441]),\n",
    "#  'Mean Training Precision': 0.7255186026897269,\n",
    "#  'Training Recall scores': array([0.94186047, 0.94186047, 0.95348837, 0.95402299, 0.96551724]),\n",
    "#  'Mean Training Recall': 0.9513499064421278,\n",
    "#  'Training F1 scores': array([0.79802956, 0.81818182, 0.83248731, 0.84693878, 0.8195122 ]),\n",
    "#  'Mean Training F1 Score': 0.8230299310217779,\n",
    "#  'Validation Accuracy scores': array([0.85483871, 0.87903226, 0.84552846, 0.86178862, 0.8699187 ]),\n",
    "#  'Mean Validation Accuracy': 86.22213480199319,\n",
    "#  'Validation Precision scores': array([0.57142857, 0.62962963, 0.55172414, 0.57142857, 0.58064516]),\n",
    "#  'Mean Validation Precision': 0.5809712143416259,\n",
    "#  'Validation Recall scores': array([0.72727273, 0.77272727, 0.72727273, 0.76190476, 0.85714286]),\n",
    "#  'Mean Validation Recall': 0.7692640692640693,\n",
    "#  'Validation F1 scores': array([0.64      , 0.69387755, 0.62745098, 0.65306122, 0.69230769]),\n",
    "#  'Mean Validation F1 Score': 0.6613394896420106}"
   ]
  }
 ],
 "metadata": {
  "kernelspec": {
   "display_name": "Python 3",
   "language": "python",
   "name": "python3"
  },
  "language_info": {
   "codemirror_mode": {
    "name": "ipython",
    "version": 3
   },
   "file_extension": ".py",
   "mimetype": "text/x-python",
   "name": "python",
   "nbconvert_exporter": "python",
   "pygments_lexer": "ipython3",
   "version": "3.11.1"
  },
  "orig_nbformat": 4
 },
 "nbformat": 4,
 "nbformat_minor": 2
}
